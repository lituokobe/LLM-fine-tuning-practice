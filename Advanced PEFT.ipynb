{
 "cells": [
  {
   "cell_type": "markdown",
   "id": "ba95acc2-63cd-49e5-b881-d5b0acf7d4ba",
   "metadata": {},
   "source": [
    "## 1. Customize model configuration"
   ]
  },
  {
   "cell_type": "code",
   "execution_count": 96,
   "id": "624748a1-8f06-496f-9c92-6b303ad266b0",
   "metadata": {},
   "outputs": [],
   "source": [
    "import torch\n",
    "from torch import nn\n",
    "from peft import LoraConfig, get_peft_model, PeftModel\n",
    "import matplotlib.pyplot as plt"
   ]
  },
  {
   "cell_type": "code",
   "execution_count": 28,
   "id": "43dc6f10-01e4-4b04-b38a-19dbecf223ac",
   "metadata": {},
   "outputs": [],
   "source": [
    "net = nn.Sequential(\n",
    "    nn.Linear(10, 10),\n",
    "    nn.ReLU(),\n",
    "    nn.Linear(10,2)\n",
    ")"
   ]
  },
  {
   "cell_type": "code",
   "execution_count": 29,
   "id": "8ca82767-63be-4194-a88c-dbd1a26ce293",
   "metadata": {},
   "outputs": [
    {
     "data": {
      "text/plain": [
       "Sequential(\n",
       "  (0): Linear(in_features=10, out_features=10, bias=True)\n",
       "  (1): ReLU()\n",
       "  (2): Linear(in_features=10, out_features=2, bias=True)\n",
       ")"
      ]
     },
     "execution_count": 29,
     "metadata": {},
     "output_type": "execute_result"
    }
   ],
   "source": [
    "net"
   ]
  },
  {
   "cell_type": "code",
   "execution_count": 30,
   "id": "ae78ecc4-05cd-49f2-900f-72dd85cb2efd",
   "metadata": {},
   "outputs": [
    {
     "data": {
      "text/plain": [
       "torch.nn.modules.container.Sequential"
      ]
     },
     "execution_count": 30,
     "metadata": {},
     "output_type": "execute_result"
    }
   ],
   "source": [
    "type(net)"
   ]
  },
  {
   "cell_type": "code",
   "execution_count": 31,
   "id": "07e47cb1-2f2e-4868-8114-8eba33e6f513",
   "metadata": {},
   "outputs": [
    {
     "name": "stdout",
     "output_type": "stream",
     "text": [
      "0.weight\n",
      "0.bias\n",
      "2.weight\n",
      "2.bias\n"
     ]
    }
   ],
   "source": [
    "for name, param in net.named_parameters():\n",
    "    print(name)"
   ]
  },
  {
   "cell_type": "code",
   "execution_count": 32,
   "id": "ec99f6fd-b553-4c7d-a77d-037ec329a83f",
   "metadata": {},
   "outputs": [],
   "source": [
    "config = LoraConfig(target_modules = [\"0\"])"
   ]
  },
  {
   "cell_type": "code",
   "execution_count": 33,
   "id": "a4cc4141-956e-47a5-bf84-57798e14f2b0",
   "metadata": {},
   "outputs": [
    {
     "data": {
      "text/plain": [
       "LoraConfig(task_type=None, peft_type=<PeftType.LORA: 'LORA'>, auto_mapping=None, base_model_name_or_path=None, revision=None, inference_mode=False, r=8, target_modules={'0'}, exclude_modules=None, lora_alpha=8, lora_dropout=0.0, fan_in_fan_out=False, bias='none', use_rslora=False, modules_to_save=None, init_lora_weights=True, layers_to_transform=None, layers_pattern=None, rank_pattern={}, alpha_pattern={}, megatron_config=None, megatron_core='megatron.core', trainable_token_indices=None, loftq_config={}, eva_config=None, corda_config=None, use_dora=False, use_qalora=False, qalora_group_size=16, layer_replication=None, runtime_config=LoraRuntimeConfig(ephemeral_gpu_offload=False), lora_bias=False, target_parameters=None)"
      ]
     },
     "execution_count": 33,
     "metadata": {},
     "output_type": "execute_result"
    }
   ],
   "source": [
    "config"
   ]
  },
  {
   "cell_type": "code",
   "execution_count": 34,
   "id": "13270b7f-9084-4731-9ddc-63b584951332",
   "metadata": {},
   "outputs": [],
   "source": [
    "model = get_peft_model(net, config)"
   ]
  },
  {
   "cell_type": "code",
   "execution_count": 35,
   "id": "42c4798d-94f4-4ca8-8558-3744e55775e2",
   "metadata": {},
   "outputs": [
    {
     "data": {
      "text/plain": [
       "PeftModel(\n",
       "  (base_model): LoraModel(\n",
       "    (model): Sequential(\n",
       "      (0): lora.Linear(\n",
       "        (base_layer): Linear(in_features=10, out_features=10, bias=True)\n",
       "        (lora_dropout): ModuleDict(\n",
       "          (default): Identity()\n",
       "        )\n",
       "        (lora_A): ModuleDict(\n",
       "          (default): Linear(in_features=10, out_features=8, bias=False)\n",
       "        )\n",
       "        (lora_B): ModuleDict(\n",
       "          (default): Linear(in_features=8, out_features=10, bias=False)\n",
       "        )\n",
       "        (lora_embedding_A): ParameterDict()\n",
       "        (lora_embedding_B): ParameterDict()\n",
       "        (lora_magnitude_vector): ModuleDict()\n",
       "      )\n",
       "      (1): ReLU()\n",
       "      (2): Linear(in_features=10, out_features=2, bias=True)\n",
       "    )\n",
       "  )\n",
       ")"
      ]
     },
     "execution_count": 35,
     "metadata": {},
     "output_type": "execute_result"
    }
   ],
   "source": [
    "model"
   ]
  },
  {
   "cell_type": "code",
   "execution_count": 36,
   "id": "9b56da2f-a3be-4cae-b2b8-f4d4f8deceff",
   "metadata": {},
   "outputs": [
    {
     "name": "stdout",
     "output_type": "stream",
     "text": [
      "trainable params: 160 || all params: 292 || trainable%: 54.7945\n"
     ]
    }
   ],
   "source": [
    "model.print_trainable_parameters()"
   ]
  },
  {
   "cell_type": "markdown",
   "id": "a56b6632-a9b2-4554-b61c-12f5e7e7808b",
   "metadata": {},
   "source": [
    "## 2. Multi-adapter loading and switching"
   ]
  },
  {
   "cell_type": "code",
   "execution_count": 74,
   "id": "c6034898-f708-4b8d-a154-3bc5ec975ebf",
   "metadata": {},
   "outputs": [],
   "source": [
    "net = nn.Sequential(\n",
    "    nn.Linear(10, 10),\n",
    "    nn.ReLU(),\n",
    "    nn.Linear(10,2)\n",
    ")"
   ]
  },
  {
   "cell_type": "code",
   "execution_count": 75,
   "id": "66c8edbb-e8d0-4ae0-8241-bd7dd0af93c3",
   "metadata": {},
   "outputs": [],
   "source": [
    "config = LoraConfig(target_modules = [\"0\"])"
   ]
  },
  {
   "cell_type": "code",
   "execution_count": 76,
   "id": "b1868eaf-bd63-43e5-a656-829341bb2740",
   "metadata": {},
   "outputs": [
    {
     "data": {
      "text/plain": [
       "LoraConfig(task_type=None, peft_type=<PeftType.LORA: 'LORA'>, auto_mapping=None, base_model_name_or_path=None, revision=None, inference_mode=False, r=8, target_modules={'0'}, exclude_modules=None, lora_alpha=8, lora_dropout=0.0, fan_in_fan_out=False, bias='none', use_rslora=False, modules_to_save=None, init_lora_weights=True, layers_to_transform=None, layers_pattern=None, rank_pattern={}, alpha_pattern={}, megatron_config=None, megatron_core='megatron.core', trainable_token_indices=None, loftq_config={}, eva_config=None, corda_config=None, use_dora=False, use_qalora=False, qalora_group_size=16, layer_replication=None, runtime_config=LoraRuntimeConfig(ephemeral_gpu_offload=False), lora_bias=False, target_parameters=None)"
      ]
     },
     "execution_count": 76,
     "metadata": {},
     "output_type": "execute_result"
    }
   ],
   "source": [
    "config"
   ]
  },
  {
   "cell_type": "code",
   "execution_count": 77,
   "id": "a7f3e76f-3760-469f-8446-4191af21db5d",
   "metadata": {},
   "outputs": [],
   "source": [
    "model = get_peft_model(net, config)"
   ]
  },
  {
   "attachments": {},
   "cell_type": "markdown",
   "id": "f2164825-7127-4d4d-86f5-79938505e24d",
   "metadata": {},
   "source": [
    "`get_peft_model` injects adapter layers (e.g., LoRA, IA³, Prompt Tuning) directly into the modules of the base model (net). This means:\n",
    "\n",
    "- The original model object is mutated—not cloned.\n",
    "- The adapter layers are added to the same Python object.\n",
    "- Any reference to net after this call will reflect the modified state."
   ]
  },
  {
   "cell_type": "code",
   "execution_count": 78,
   "id": "10b5b693-1b49-4a06-98db-1ee7ee93f6a9",
   "metadata": {},
   "outputs": [
    {
     "data": {
      "text/plain": [
       "Sequential(\n",
       "  (0): lora.Linear(\n",
       "    (base_layer): Linear(in_features=10, out_features=10, bias=True)\n",
       "    (lora_dropout): ModuleDict(\n",
       "      (default): Identity()\n",
       "    )\n",
       "    (lora_A): ModuleDict(\n",
       "      (default): Linear(in_features=10, out_features=8, bias=False)\n",
       "    )\n",
       "    (lora_B): ModuleDict(\n",
       "      (default): Linear(in_features=8, out_features=10, bias=False)\n",
       "    )\n",
       "    (lora_embedding_A): ParameterDict()\n",
       "    (lora_embedding_B): ParameterDict()\n",
       "    (lora_magnitude_vector): ModuleDict()\n",
       "  )\n",
       "  (1): ReLU()\n",
       "  (2): Linear(in_features=10, out_features=2, bias=True)\n",
       ")"
      ]
     },
     "execution_count": 78,
     "metadata": {},
     "output_type": "execute_result"
    }
   ],
   "source": [
    "net"
   ]
  },
  {
   "cell_type": "code",
   "execution_count": 79,
   "id": "e190221f-972c-4fef-9a05-016566c9871e",
   "metadata": {},
   "outputs": [
    {
     "data": {
      "text/plain": [
       "PeftModel(\n",
       "  (base_model): LoraModel(\n",
       "    (model): Sequential(\n",
       "      (0): lora.Linear(\n",
       "        (base_layer): Linear(in_features=10, out_features=10, bias=True)\n",
       "        (lora_dropout): ModuleDict(\n",
       "          (default): Identity()\n",
       "        )\n",
       "        (lora_A): ModuleDict(\n",
       "          (default): Linear(in_features=10, out_features=8, bias=False)\n",
       "        )\n",
       "        (lora_B): ModuleDict(\n",
       "          (default): Linear(in_features=8, out_features=10, bias=False)\n",
       "        )\n",
       "        (lora_embedding_A): ParameterDict()\n",
       "        (lora_embedding_B): ParameterDict()\n",
       "        (lora_magnitude_vector): ModuleDict()\n",
       "      )\n",
       "      (1): ReLU()\n",
       "      (2): Linear(in_features=10, out_features=2, bias=True)\n",
       "    )\n",
       "  )\n",
       ")"
      ]
     },
     "execution_count": 79,
     "metadata": {},
     "output_type": "execute_result"
    }
   ],
   "source": [
    "model"
   ]
  },
  {
   "cell_type": "markdown",
   "id": "e15df5ac-eb58-43be-986b-72b881694e26",
   "metadata": {},
   "source": [
    "Assume we finished the training and we are going to save the model.\n",
    "\n",
    "The configuration, not the full model will be saved in the newly created folder designated as an input parameter.\n",
    "\n",
    "When you save a LoRA model using PEFT, you're typically saving:\n",
    "\n",
    "- The LoRA configuration\n",
    "- The LoRA adapter weights (i.e., the low-rank updates)\n",
    "- Not the full pretrained model weights\n",
    "\n",
    "So when you load it back, PEFT needs the original base model (net) to:\n",
    "- Reconstruct the full model by injecting the LoRA layers into the correct places\n",
    "- Ensure the adapter is applied to the correct architecture and modules (e.g., q_proj, v_proj)"
   ]
  },
  {
   "cell_type": "code",
   "execution_count": 62,
   "id": "77f58285-ddd1-4bb9-8323-cfb7b226fa01",
   "metadata": {},
   "outputs": [],
   "source": [
    "model.save_pretrained(\"./LoRA1\")"
   ]
  },
  {
   "cell_type": "code",
   "execution_count": 63,
   "id": "824cec1c-c859-4f2c-9d40-5011a1de90d7",
   "metadata": {},
   "outputs": [
    {
     "data": {
      "text/plain": [
       "Sequential(\n",
       "  (0): Linear(in_features=10, out_features=10, bias=True)\n",
       "  (1): ReLU()\n",
       "  (2): Linear(in_features=10, out_features=2, bias=True)\n",
       ")"
      ]
     },
     "execution_count": 63,
     "metadata": {},
     "output_type": "execute_result"
    }
   ],
   "source": [
    "net2 = nn.Sequential(\n",
    "    nn.Linear(10, 10),\n",
    "    nn.ReLU(),\n",
    "    nn.Linear(10,2)\n",
    ")\n",
    "net2"
   ]
  },
  {
   "cell_type": "code",
   "execution_count": 65,
   "id": "88e1f144-0898-47d1-88a6-efb48a272137",
   "metadata": {},
   "outputs": [],
   "source": [
    "config2 = LoraConfig(target_modules = [\"2\"])\n",
    "model2 = get_peft_model(net2, config2)"
   ]
  },
  {
   "cell_type": "code",
   "execution_count": 66,
   "id": "c19af0f3-e2b9-4ca2-8923-657dc7313821",
   "metadata": {},
   "outputs": [],
   "source": [
    "model2.save_pretrained(\"./LoRA2\")"
   ]
  },
  {
   "cell_type": "markdown",
   "id": "05afe3e3-c4ec-4e48-a1c0-ee8b8022e7ef",
   "metadata": {},
   "source": [
    "Load the saved model."
   ]
  },
  {
   "cell_type": "code",
   "execution_count": 68,
   "id": "43b557a7-bc87-4c25-a294-5800a4ce3c34",
   "metadata": {},
   "outputs": [
    {
     "data": {
      "text/plain": [
       "Sequential(\n",
       "  (0): Linear(in_features=10, out_features=10, bias=True)\n",
       "  (1): ReLU()\n",
       "  (2): Linear(in_features=10, out_features=2, bias=True)\n",
       ")"
      ]
     },
     "execution_count": 68,
     "metadata": {},
     "output_type": "execute_result"
    }
   ],
   "source": [
    "net = nn.Sequential(\n",
    "    nn.Linear(10, 10),\n",
    "    nn.ReLU(),\n",
    "    nn.Linear(10,2)\n",
    ")\n",
    "net"
   ]
  },
  {
   "cell_type": "code",
   "execution_count": 69,
   "id": "73a7b116-7c8e-4755-b63e-0d053943a652",
   "metadata": {},
   "outputs": [],
   "source": [
    "model_loaded = PeftModel.from_pretrained(net, model_id = \"./LoRA1\", adapter_name = \"LoRA1\")"
   ]
  },
  {
   "cell_type": "code",
   "execution_count": 70,
   "id": "b04d3fef-d45e-43e2-b950-d0b81fbd20c3",
   "metadata": {},
   "outputs": [
    {
     "data": {
      "text/plain": [
       "PeftModel(\n",
       "  (base_model): LoraModel(\n",
       "    (model): Sequential(\n",
       "      (0): lora.Linear(\n",
       "        (base_layer): Linear(in_features=10, out_features=10, bias=True)\n",
       "        (lora_dropout): ModuleDict(\n",
       "          (LoRA1): Identity()\n",
       "        )\n",
       "        (lora_A): ModuleDict(\n",
       "          (LoRA1): Linear(in_features=10, out_features=8, bias=False)\n",
       "        )\n",
       "        (lora_B): ModuleDict(\n",
       "          (LoRA1): Linear(in_features=8, out_features=10, bias=False)\n",
       "        )\n",
       "        (lora_embedding_A): ParameterDict()\n",
       "        (lora_embedding_B): ParameterDict()\n",
       "        (lora_magnitude_vector): ModuleDict()\n",
       "      )\n",
       "      (1): ReLU()\n",
       "      (2): Linear(in_features=10, out_features=2, bias=True)\n",
       "    )\n",
       "  )\n",
       ")"
      ]
     },
     "execution_count": 70,
     "metadata": {},
     "output_type": "execute_result"
    }
   ],
   "source": [
    "model_loaded"
   ]
  },
  {
   "cell_type": "code",
   "execution_count": 71,
   "id": "2c7070b0-4c26-45c8-9d9a-76f4ef388bee",
   "metadata": {},
   "outputs": [
    {
     "data": {
      "text/plain": [
       "PeftModel(\n",
       "  (base_model): LoraModel(\n",
       "    (model): Sequential(\n",
       "      (0): lora.Linear(\n",
       "        (base_layer): Linear(in_features=10, out_features=10, bias=True)\n",
       "        (lora_dropout): ModuleDict(\n",
       "          (default): Identity()\n",
       "        )\n",
       "        (lora_A): ModuleDict(\n",
       "          (default): Linear(in_features=10, out_features=8, bias=False)\n",
       "        )\n",
       "        (lora_B): ModuleDict(\n",
       "          (default): Linear(in_features=8, out_features=10, bias=False)\n",
       "        )\n",
       "        (lora_embedding_A): ParameterDict()\n",
       "        (lora_embedding_B): ParameterDict()\n",
       "        (lora_magnitude_vector): ModuleDict()\n",
       "      )\n",
       "      (1): ReLU()\n",
       "      (2): Linear(in_features=10, out_features=2, bias=True)\n",
       "    )\n",
       "  )\n",
       ")"
      ]
     },
     "execution_count": 71,
     "metadata": {},
     "output_type": "execute_result"
    }
   ],
   "source": [
    "model"
   ]
  },
  {
   "cell_type": "markdown",
   "id": "567e58d6-409b-4e24-b246-88b5552e0ab9",
   "metadata": {},
   "source": [
    "Use `load_adapter` to add adapterto existing model."
   ]
  },
  {
   "cell_type": "code",
   "execution_count": 72,
   "id": "98eb6352-ad94-4e82-93f7-ae01431ca8d4",
   "metadata": {},
   "outputs": [
    {
     "data": {
      "text/plain": [
       "<All keys matched successfully>"
      ]
     },
     "execution_count": 72,
     "metadata": {},
     "output_type": "execute_result"
    }
   ],
   "source": [
    "model_loaded.load_adapter(\"./LoRA2\", adapter_name = \"LoRA2\")"
   ]
  },
  {
   "cell_type": "code",
   "execution_count": 73,
   "id": "052e8dcd-ab76-428a-a770-de89af0e7337",
   "metadata": {},
   "outputs": [
    {
     "data": {
      "text/plain": [
       "PeftModel(\n",
       "  (base_model): LoraModel(\n",
       "    (model): Sequential(\n",
       "      (0): lora.Linear(\n",
       "        (base_layer): Linear(in_features=10, out_features=10, bias=True)\n",
       "        (lora_dropout): ModuleDict(\n",
       "          (LoRA1): Identity()\n",
       "        )\n",
       "        (lora_A): ModuleDict(\n",
       "          (LoRA1): Linear(in_features=10, out_features=8, bias=False)\n",
       "        )\n",
       "        (lora_B): ModuleDict(\n",
       "          (LoRA1): Linear(in_features=8, out_features=10, bias=False)\n",
       "        )\n",
       "        (lora_embedding_A): ParameterDict()\n",
       "        (lora_embedding_B): ParameterDict()\n",
       "        (lora_magnitude_vector): ModuleDict()\n",
       "      )\n",
       "      (1): ReLU()\n",
       "      (2): lora.Linear(\n",
       "        (base_layer): Linear(in_features=10, out_features=2, bias=True)\n",
       "        (lora_dropout): ModuleDict(\n",
       "          (LoRA2): Identity()\n",
       "        )\n",
       "        (lora_A): ModuleDict(\n",
       "          (LoRA2): Linear(in_features=10, out_features=8, bias=False)\n",
       "        )\n",
       "        (lora_B): ModuleDict(\n",
       "          (LoRA2): Linear(in_features=8, out_features=2, bias=False)\n",
       "        )\n",
       "        (lora_embedding_A): ParameterDict()\n",
       "        (lora_embedding_B): ParameterDict()\n",
       "        (lora_magnitude_vector): ModuleDict()\n",
       "      )\n",
       "    )\n",
       "  )\n",
       ")"
      ]
     },
     "execution_count": 73,
     "metadata": {},
     "output_type": "execute_result"
    }
   ],
   "source": [
    "model_loaded"
   ]
  },
  {
   "cell_type": "code",
   "execution_count": 80,
   "id": "2e57755b-a177-47ea-bd5c-0e366291cb05",
   "metadata": {},
   "outputs": [
    {
     "data": {
      "text/plain": [
       "'LoRA1'"
      ]
     },
     "execution_count": 80,
     "metadata": {},
     "output_type": "execute_result"
    }
   ],
   "source": [
    "model_loaded.active_adapter"
   ]
  },
  {
   "cell_type": "markdown",
   "id": "95e4087a-0ea1-4913-bc5d-181a2cbee31b",
   "metadata": {},
   "source": [
    "At this time, model_loaded is loaded with LoRA1 and LoRA2, but it only show LoRA1 here."
   ]
  },
  {
   "cell_type": "code",
   "execution_count": 83,
   "id": "d423eb6c-c7ed-4c9b-bfbe-18a99bb58a2b",
   "metadata": {},
   "outputs": [
    {
     "data": {
      "text/plain": [
       "tensor([[ 2.2643, -2.1980]], grad_fn=<AddmmBackward0>)"
      ]
     },
     "execution_count": 83,
     "metadata": {},
     "output_type": "execute_result"
    }
   ],
   "source": [
    "model_loaded(torch.arange(0,10).view(1,10).float())"
   ]
  },
  {
   "cell_type": "markdown",
   "id": "0ed4f970-0d92-47b8-8669-ea6f9c68d9ae",
   "metadata": {},
   "source": [
    "The above result is the forward propagation with only LoRA1. But actually since LoRA1 is not trained, meaning LoRAB in LoRA1 is only zero, so the result will be the same as if there were no LoRA1. In short, LoRA1 doesn't have any impact to the result."
   ]
  },
  {
   "cell_type": "markdown",
   "id": "0c5a6d32-61b7-4601-9d44-f5419a8471d7",
   "metadata": {},
   "source": [
    "Observe all the parameters, especailly LoRA1."
   ]
  },
  {
   "cell_type": "code",
   "execution_count": 85,
   "id": "ee345b6b-f0f2-4fcf-aa3d-04c2f35bbe21",
   "metadata": {
    "scrolled": true
   },
   "outputs": [
    {
     "name": "stdout",
     "output_type": "stream",
     "text": [
      "base_model.model.0.base_layer.weight Parameter containing:\n",
      "tensor([[ 0.2148,  0.2300, -0.0852, -0.0385,  0.1528, -0.2517,  0.1989,  0.1850,\n",
      "         -0.1537, -0.1598],\n",
      "        [ 0.0701,  0.1910,  0.2447,  0.2428, -0.1525, -0.2923, -0.2148, -0.2323,\n",
      "         -0.1457, -0.1323],\n",
      "        [-0.0601, -0.1806,  0.1027, -0.1469, -0.2808,  0.2860,  0.1875, -0.2528,\n",
      "          0.2934, -0.2301],\n",
      "        [ 0.2359, -0.1629, -0.2355, -0.1299,  0.0024,  0.0470,  0.1063, -0.3047,\n",
      "          0.1232, -0.0876],\n",
      "        [-0.0858, -0.0102,  0.0842,  0.0698,  0.1710, -0.0244, -0.2627,  0.2815,\n",
      "         -0.0844, -0.1858],\n",
      "        [ 0.2067, -0.1552,  0.1700, -0.0743,  0.1910,  0.0698,  0.1104,  0.0090,\n",
      "         -0.0640, -0.1812],\n",
      "        [ 0.0788, -0.2592,  0.1500,  0.2340,  0.2772,  0.3008, -0.2469, -0.3135,\n",
      "         -0.1386, -0.0610],\n",
      "        [-0.0743,  0.3157,  0.2174, -0.2338,  0.2727, -0.2137,  0.1345, -0.2023,\n",
      "         -0.0753, -0.0885],\n",
      "        [ 0.0270,  0.1134,  0.1878,  0.1797,  0.2159,  0.2688,  0.1149,  0.2165,\n",
      "          0.1092,  0.3153],\n",
      "        [ 0.2320,  0.1522,  0.1481,  0.2746, -0.2349, -0.0023,  0.2905,  0.1241,\n",
      "         -0.2798, -0.3116]])\n",
      "base_model.model.0.base_layer.bias Parameter containing:\n",
      "tensor([ 0.2453, -0.0010, -0.2319, -0.2849,  0.0527, -0.0426, -0.1974, -0.0580,\n",
      "        -0.1467,  0.0682])\n",
      "base_model.model.0.lora_A.LoRA1.weight Parameter containing:\n",
      "tensor([[-0.0683, -0.2132,  0.1952, -0.3047,  0.2121,  0.0900, -0.0180,  0.0556,\n",
      "         -0.2182, -0.2453],\n",
      "        [ 0.2704,  0.2913, -0.0486,  0.0069,  0.2548,  0.1713, -0.2362, -0.0890,\n",
      "          0.0916, -0.1812],\n",
      "        [-0.1457,  0.3158,  0.1737,  0.3028, -0.2844,  0.3000, -0.2540,  0.2638,\n",
      "          0.0311,  0.2032],\n",
      "        [-0.0142,  0.2984,  0.0544, -0.2214,  0.3160, -0.1557, -0.0550, -0.2566,\n",
      "          0.1705, -0.0492],\n",
      "        [ 0.1714,  0.0760,  0.1064, -0.3077,  0.0547, -0.1334, -0.2906,  0.0043,\n",
      "          0.1677,  0.2849],\n",
      "        [-0.2482, -0.0563,  0.1417, -0.2779, -0.1537, -0.1336,  0.3114, -0.2974,\n",
      "         -0.1135, -0.1258],\n",
      "        [-0.0480,  0.2389,  0.2661,  0.2964, -0.0054,  0.0292, -0.1821, -0.1194,\n",
      "          0.2797, -0.3101],\n",
      "        [-0.1942, -0.1929, -0.1190,  0.2718,  0.2387,  0.1086, -0.0065,  0.1444,\n",
      "         -0.1001,  0.1666]], requires_grad=True)\n",
      "base_model.model.0.lora_B.LoRA1.weight Parameter containing:\n",
      "tensor([[0., 0., 0., 0., 0., 0., 0., 0.],\n",
      "        [0., 0., 0., 0., 0., 0., 0., 0.],\n",
      "        [0., 0., 0., 0., 0., 0., 0., 0.],\n",
      "        [0., 0., 0., 0., 0., 0., 0., 0.],\n",
      "        [0., 0., 0., 0., 0., 0., 0., 0.],\n",
      "        [0., 0., 0., 0., 0., 0., 0., 0.],\n",
      "        [0., 0., 0., 0., 0., 0., 0., 0.],\n",
      "        [0., 0., 0., 0., 0., 0., 0., 0.],\n",
      "        [0., 0., 0., 0., 0., 0., 0., 0.],\n",
      "        [0., 0., 0., 0., 0., 0., 0., 0.]], requires_grad=True)\n",
      "base_model.model.2.base_layer.weight Parameter containing:\n",
      "tensor([[ 0.2548,  0.1943,  0.2559, -0.0272,  0.2363,  0.0827,  0.1107,  0.2567,\n",
      "          0.2473,  0.1078],\n",
      "        [-0.1982, -0.2225, -0.3031, -0.2744,  0.1318,  0.1450,  0.2364, -0.3101,\n",
      "         -0.2558, -0.2703]])\n",
      "base_model.model.2.base_layer.bias Parameter containing:\n",
      "tensor([0.0374, 0.1055])\n",
      "base_model.model.2.lora_A.LoRA2.weight Parameter containing:\n",
      "tensor([[-0.2916,  0.1804,  0.0145,  0.2141, -0.1067,  0.2774,  0.2115, -0.1264,\n",
      "          0.0075,  0.2304],\n",
      "        [ 0.0622, -0.0954, -0.2506,  0.0936, -0.0601, -0.1802, -0.1741,  0.2688,\n",
      "          0.3003, -0.2350],\n",
      "        [-0.2006,  0.2685,  0.2140, -0.2350, -0.0205,  0.1762, -0.2690,  0.0613,\n",
      "          0.1032,  0.1013],\n",
      "        [ 0.1856,  0.1215, -0.0758,  0.1430, -0.2543, -0.0854,  0.3159, -0.0527,\n",
      "         -0.0524, -0.1075],\n",
      "        [ 0.3069,  0.0872,  0.2218, -0.0231,  0.0137, -0.0065,  0.3096, -0.0364,\n",
      "          0.2577, -0.2383],\n",
      "        [-0.1068,  0.0382,  0.1029,  0.0246,  0.0115, -0.1763, -0.2135, -0.1433,\n",
      "          0.2724,  0.0335],\n",
      "        [-0.0987,  0.2692,  0.1840, -0.2197,  0.2302, -0.1200, -0.3147,  0.2750,\n",
      "          0.1073, -0.0507],\n",
      "        [-0.0738, -0.2781, -0.2309,  0.2715,  0.1393, -0.2043,  0.0076, -0.2711,\n",
      "          0.2162, -0.1520]])\n",
      "base_model.model.2.lora_B.LoRA2.weight Parameter containing:\n",
      "tensor([[0., 0., 0., 0., 0., 0., 0., 0.],\n",
      "        [0., 0., 0., 0., 0., 0., 0., 0.]])\n"
     ]
    }
   ],
   "source": [
    "for name, param in model_loaded.named_parameters():\n",
    "    print(name, param)"
   ]
  },
  {
   "cell_type": "code",
   "execution_count": 103,
   "id": "fef811ad-ca7a-4cf1-8b48-046dd3ef85c9",
   "metadata": {},
   "outputs": [],
   "source": [
    "test_loraA = ''\n",
    "for name, param in model_loaded.named_parameters():\n",
    "    if name == \"base_model.model.0.lora_A.LoRA1.weight\":\n",
    "    # if name == \"base_model.model.0.lora_B.LoRA1.weight\":\n",
    "        test_loraA = param.detach().cpu().numpy().flatten()"
   ]
  },
  {
   "cell_type": "code",
   "execution_count": 104,
   "id": "2a165436-8862-46d7-9740-754cdf1efdc6",
   "metadata": {
    "scrolled": true
   },
   "outputs": [
    {
     "data": {
      "text/plain": [
       "array([-0.06827665, -0.21315162,  0.19517507, -0.3047136 ,  0.21207996,\n",
       "        0.08997091, -0.01801044,  0.05561654, -0.21824068, -0.24525881,\n",
       "        0.27042082,  0.2912934 , -0.04864258,  0.00690995,  0.2547788 ,\n",
       "        0.17133598, -0.2362363 , -0.0889783 ,  0.09163094, -0.18120694,\n",
       "       -0.14570914,  0.31579918,  0.17370921,  0.30281734, -0.2844441 ,\n",
       "        0.30003157, -0.2540153 ,  0.26382372,  0.03114098,  0.20320229,\n",
       "       -0.01417893,  0.2983798 ,  0.05441581, -0.22140528,  0.31599414,\n",
       "       -0.15568885, -0.0549856 , -0.25660574,  0.1704619 , -0.04924649,\n",
       "        0.17139727,  0.07604048,  0.10635555, -0.3077171 ,  0.05474796,\n",
       "       -0.13341919, -0.29058054,  0.00432354,  0.16773969,  0.28487453,\n",
       "       -0.24817361, -0.05634926,  0.14166848, -0.27790406, -0.15371028,\n",
       "       -0.13360232,  0.31142262, -0.29741767, -0.11348131, -0.12580545,\n",
       "       -0.04801771,  0.2389253 ,  0.26608676,  0.29641527, -0.00535222,\n",
       "        0.02918509, -0.18207073, -0.11940193,  0.2796891 , -0.3100559 ,\n",
       "       -0.19420104, -0.19292066, -0.11895616,  0.27177656,  0.2387013 ,\n",
       "        0.10859574, -0.00646814,  0.1444007 , -0.10007887,  0.16655506],\n",
       "      dtype=float32)"
      ]
     },
     "execution_count": 104,
     "metadata": {},
     "output_type": "execute_result"
    }
   ],
   "source": [
    "test_loraA"
   ]
  },
  {
   "cell_type": "code",
   "execution_count": 105,
   "id": "4d76d91f-b9d4-4e13-8035-677dd2288b3b",
   "metadata": {},
   "outputs": [
    {
     "data": {
      "image/png": "[encoded data removed]",
      "text/plain": [
       "<Figure size 640x480 with 1 Axes>"
      ]
     },
     "metadata": {},
     "output_type": "display_data"
    }
   ],
   "source": [
    "plt.hist(test_loraA, bins=10)\n",
    "plt.title(\"Distribution of LoRA A Weights\")\n",
    "plt.xlabel(\"Weight Value\")\n",
    "plt.ylabel(\"Frequency\")\n",
    "plt.grid(True)\n",
    "plt.show()"
   ]
  },
  {
   "cell_type": "markdown",
   "id": "00b1cb42-e474-4b72-baf0-87c744c96828",
   "metadata": {},
   "source": [
    "We change all the parameters in LoRA1 to 1, just like we have trained it."
   ]
  },
  {
   "cell_type": "code",
   "execution_count": 106,
   "id": "72611add-0080-4066-bef8-f5da9a0d7ce2",
   "metadata": {},
   "outputs": [],
   "source": [
    "for name, param in model_loaded.named_parameters():\n",
    "    if name in [\"base_model.model.0.lora_A.LoRA1.weight\", \"base_model.model.0.lora_B.LoRA1.weight\"]:\n",
    "        param.data = torch.ones_like(param)"
   ]
  },
  {
   "cell_type": "code",
   "execution_count": 107,
   "id": "10c07e5e-72cf-40be-bfcf-f60a130615fa",
   "metadata": {},
   "outputs": [
    {
     "data": {
      "text/plain": [
       "array([1., 1., 1., 1., 1., 1., 1., 1., 1., 1., 1., 1., 1., 1., 1., 1., 1.,\n",
       "       1., 1., 1., 1., 1., 1., 1., 1., 1., 1., 1., 1., 1., 1., 1., 1., 1.,\n",
       "       1., 1., 1., 1., 1., 1., 1., 1., 1., 1., 1., 1., 1., 1., 1., 1., 1.,\n",
       "       1., 1., 1., 1., 1., 1., 1., 1., 1., 1., 1., 1., 1., 1., 1., 1., 1.,\n",
       "       1., 1., 1., 1., 1., 1., 1., 1., 1., 1., 1., 1.], dtype=float32)"
      ]
     },
     "execution_count": 107,
     "metadata": {},
     "output_type": "execute_result"
    }
   ],
   "source": [
    "test_loraA = ''\n",
    "for name, param in model_loaded.named_parameters():\n",
    "    if name == \"base_model.model.0.lora_A.LoRA1.weight\":\n",
    "    # if name == \"base_model.model.0.lora_B.LoRA1.weight\":\n",
    "        test_loraA = param.detach().cpu().numpy().flatten()\n",
    "test_loraA"
   ]
  },
  {
   "cell_type": "markdown",
   "id": "1b700612-aff0-4f8c-8a87-a38b77a1c545",
   "metadata": {},
   "source": [
    "Now, when we do the propagation, we will have a different result."
   ]
  },
  {
   "cell_type": "code",
   "execution_count": 108,
   "id": "2b2196d9-360c-4910-a476-d72401dd5e89",
   "metadata": {},
   "outputs": [
    {
     "data": {
      "text/plain": [
       "tensor([[ 618.5175, -475.0137]], grad_fn=<AddmmBackward0>)"
      ]
     },
     "execution_count": 108,
     "metadata": {},
     "output_type": "execute_result"
    }
   ],
   "source": [
    "model_loaded(torch.arange(0,10).view(1,10).float())"
   ]
  },
  {
   "cell_type": "markdown",
   "id": "3b265309-4506-4c7c-b825-d66c5e4a65b4",
   "metadata": {},
   "source": [
    "### Swith to LoRA2"
   ]
  },
  {
   "cell_type": "code",
   "execution_count": 109,
   "id": "a8f9f133-b72d-4b15-add2-d31fca114af4",
   "metadata": {},
   "outputs": [
    {
     "data": {
      "text/plain": [
       "PeftModel(\n",
       "  (base_model): LoraModel(\n",
       "    (model): Sequential(\n",
       "      (0): lora.Linear(\n",
       "        (base_layer): Linear(in_features=10, out_features=10, bias=True)\n",
       "        (lora_dropout): ModuleDict(\n",
       "          (LoRA1): Identity()\n",
       "        )\n",
       "        (lora_A): ModuleDict(\n",
       "          (LoRA1): Linear(in_features=10, out_features=8, bias=False)\n",
       "        )\n",
       "        (lora_B): ModuleDict(\n",
       "          (LoRA1): Linear(in_features=8, out_features=10, bias=False)\n",
       "        )\n",
       "        (lora_embedding_A): ParameterDict()\n",
       "        (lora_embedding_B): ParameterDict()\n",
       "        (lora_magnitude_vector): ModuleDict()\n",
       "      )\n",
       "      (1): ReLU()\n",
       "      (2): lora.Linear(\n",
       "        (base_layer): Linear(in_features=10, out_features=2, bias=True)\n",
       "        (lora_dropout): ModuleDict(\n",
       "          (LoRA2): Identity()\n",
       "        )\n",
       "        (lora_A): ModuleDict(\n",
       "          (LoRA2): Linear(in_features=10, out_features=8, bias=False)\n",
       "        )\n",
       "        (lora_B): ModuleDict(\n",
       "          (LoRA2): Linear(in_features=8, out_features=2, bias=False)\n",
       "        )\n",
       "        (lora_embedding_A): ParameterDict()\n",
       "        (lora_embedding_B): ParameterDict()\n",
       "        (lora_magnitude_vector): ModuleDict()\n",
       "      )\n",
       "    )\n",
       "  )\n",
       ")"
      ]
     },
     "execution_count": 109,
     "metadata": {},
     "output_type": "execute_result"
    }
   ],
   "source": [
    "model_loaded"
   ]
  },
  {
   "cell_type": "code",
   "execution_count": 111,
   "id": "27ed5ab0-7b04-49f6-a01b-0e126ed0bc8f",
   "metadata": {},
   "outputs": [],
   "source": [
    "model_loaded.set_adapter(\"LoRA2\")"
   ]
  },
  {
   "cell_type": "code",
   "execution_count": 113,
   "id": "a6eba986-c4d5-4e21-986e-dcb774cec318",
   "metadata": {},
   "outputs": [
    {
     "data": {
      "text/plain": [
       "'LoRA2'"
      ]
     },
     "execution_count": 113,
     "metadata": {},
     "output_type": "execute_result"
    }
   ],
   "source": [
    "model_loaded.active_adapter"
   ]
  },
  {
   "cell_type": "code",
   "execution_count": 112,
   "id": "6eb6bda8-f8fb-4d5e-adf5-440e8446f93c",
   "metadata": {},
   "outputs": [
    {
     "data": {
      "text/plain": [
       "tensor([[ 2.2643, -2.1980]], grad_fn=<AddBackward0>)"
      ]
     },
     "execution_count": 112,
     "metadata": {},
     "output_type": "execute_result"
    }
   ],
   "source": [
    "model_loaded(torch.arange(0,10).view(1,10).float())"
   ]
  },
  {
   "cell_type": "markdown",
   "id": "7a18f513-a1a6-4a69-97d1-08ab90d7548d",
   "metadata": {},
   "source": [
    "This value is the same as when I first do forward propagation with non-touched LoRA1. In other words, LoRA2 doesn't have any impact to the result either here as it is not trained."
   ]
  },
  {
   "cell_type": "markdown",
   "id": "162b97ed-95f0-4640-bff6-9803e9161f5d",
   "metadata": {},
   "source": [
    "## Disable adapters and have the output from original model"
   ]
  },
  {
   "cell_type": "code",
   "execution_count": 114,
   "id": "21a78c8b-0ad7-493b-a6fd-679f985baec4",
   "metadata": {},
   "outputs": [
    {
     "name": "stdout",
     "output_type": "stream",
     "text": [
      "tensor([[ 2.2643, -2.1980]])\n"
     ]
    }
   ],
   "source": [
    "with model_loaded.disable_adapter():\n",
    "    print(model_loaded(torch.arange(0,10).view(1,10).float()))"
   ]
  },
  {
   "cell_type": "code",
   "execution_count": null,
   "id": "c7063e8f-2870-4168-8549-4ae447608d8b",
   "metadata": {},
   "outputs": [],
   "source": []
  }
 ],
 "metadata": {
  "kernelspec": {
   "display_name": "Python 3 (ipykernel)",
   "language": "python",
   "name": "python3"
  },
  "language_info": {
   "codemirror_mode": {
    "name": "ipython",
    "version": 3
   },
   "file_extension": ".py",
   "mimetype": "text/x-python",
   "name": "python",
   "nbconvert_exporter": "python",
   "pygments_lexer": "ipython3",
   "version": "3.10.18"
  }
 },
 "nbformat": 4,
 "nbformat_minor": 5
}
